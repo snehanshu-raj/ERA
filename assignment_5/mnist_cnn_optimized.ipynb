{
  "cells": [
    {
      "cell_type": "markdown",
      "metadata": {
        "id": "n09vaEgP6pLj"
      },
      "source": [
        "CODE BLOCK: 1"
      ]
    },
    {
      "cell_type": "code",
      "execution_count": 1,
      "metadata": {
        "id": "6PlbomWY3RSq"
      },
      "outputs": [],
      "source": [
        "import torch\n",
        "import torch.nn as nn\n",
        "import torch.nn.functional as F\n",
        "import torch.optim as optim\n",
        "from torchvision import datasets, transforms"
      ]
    },
    {
      "cell_type": "markdown",
      "metadata": {
        "id": "VjBHHQVA6sXt"
      },
      "source": [
        "CODE BLOCK: 2"
      ]
    },
    {
      "cell_type": "code",
      "execution_count": 2,
      "metadata": {
        "colab": {
          "base_uri": "https://localhost:8080/"
        },
        "id": "94BxVVBP3WwS",
        "outputId": "17479cce-e61e-4250-c7a7-bdd3d0c0192a"
      },
      "outputs": [
        {
          "name": "stdout",
          "output_type": "stream",
          "text": [
            "CUDA Available? True\n"
          ]
        }
      ],
      "source": [
        "# CUDA?\n",
        "cuda = torch.cuda.is_available()\n",
        "print(\"CUDA Available?\", cuda)"
      ]
    },
    {
      "cell_type": "markdown",
      "metadata": {
        "id": "3UHq59Sw6tmW"
      },
      "source": [
        "CODE BLOCK: 3"
      ]
    },
    {
      "cell_type": "code",
      "execution_count": 3,
      "metadata": {
        "id": "KpshQ2Ug38m2"
      },
      "outputs": [],
      "source": [
        "# Train data transformations\n",
        "train_transforms = transforms.Compose([\n",
        "    transforms.RandomApply([transforms.CenterCrop(22), ], p=0.1),\n",
        "    transforms.Resize((28, 28)),\n",
        "    transforms.RandomRotation((-7., 7.), fill=0),\n",
        "    transforms.ToTensor(),\n",
        "    transforms.Normalize((0.1307,), (0.3081,)),\n",
        "    ])\n",
        "\n",
        "# Test data transformations\n",
        "test_transforms = transforms.Compose([\n",
        "    transforms.ToTensor(),\n",
        "    transforms.Normalize((0.1307,), (0.3081,)),\n",
        "    ])"
      ]
    },
    {
      "cell_type": "markdown",
      "metadata": {
        "id": "zQm17pM46zHL"
      },
      "source": [
        "CODE BLOCK: 4"
      ]
    },
    {
      "cell_type": "code",
      "execution_count": 4,
      "metadata": {
        "colab": {
          "base_uri": "https://localhost:8080/"
        },
        "id": "JB79ZYW13-AO",
        "outputId": "239fc6d1-a874-406e-a793-e4dbb51869ad"
      },
      "outputs": [
        {
          "name": "stderr",
          "output_type": "stream",
          "text": [
            "100%|██████████| 9.91M/9.91M [00:00<00:00, 18.5MB/s]\n",
            "100%|██████████| 28.9k/28.9k [00:00<00:00, 500kB/s]\n",
            "100%|██████████| 1.65M/1.65M [00:00<00:00, 3.97MB/s]\n",
            "100%|██████████| 4.54k/4.54k [00:00<00:00, 7.08MB/s]\n"
          ]
        }
      ],
      "source": [
        "train_data = datasets.MNIST('../data', train=True, download=True, transform=train_transforms)\n",
        "test_data = datasets.MNIST('../data', train=False, download=True, transform=train_transforms)"
      ]
    },
    {
      "cell_type": "markdown",
      "metadata": {
        "id": "_PKSHxto6116"
      },
      "source": [
        "CODE BLOCK: 5"
      ]
    },
    {
      "cell_type": "code",
      "execution_count": 5,
      "metadata": {
        "colab": {
          "base_uri": "https://localhost:8080/"
        },
        "id": "avCKK1uL4A68",
        "outputId": "3c28098c-f08d-4115-dff8-e64e39872609"
      },
      "outputs": [
        {
          "name": "stderr",
          "output_type": "stream",
          "text": [
            "/usr/local/lib/python3.12/dist-packages/torch/utils/data/dataloader.py:627: UserWarning: This DataLoader will create 4 worker processes in total. Our suggested max number of worker in current system is 2, which is smaller than what this DataLoader is going to create. Please be aware that excessive worker creation might get DataLoader running slow or even freeze, lower the worker number to avoid potential slowness/freeze if necessary.\n",
            "  warnings.warn(\n"
          ]
        }
      ],
      "source": [
        "batch_size = 128\n",
        "\n",
        "kwargs = {'batch_size': batch_size, 'shuffle': True, 'num_workers': 4, 'pin_memory': True}\n",
        "\n",
        "test_loader = torch.utils.data.DataLoader(test_data, **kwargs)\n",
        "train_loader = torch.utils.data.DataLoader(train_data, **kwargs)"
      ]
    },
    {
      "cell_type": "markdown",
      "metadata": {
        "id": "Hi_0rfq56-29"
      },
      "source": [
        "CODE BLOCK: 6"
      ]
    },
    {
      "cell_type": "code",
      "execution_count": 6,
      "metadata": {
        "colab": {
          "base_uri": "https://localhost:8080/",
          "height": 463
        },
        "id": "Hx7QkLcw4Epc",
        "outputId": "f514d246-1399-4e18-8ece-d1d0c12baf23"
      },
      "outputs": [
        {
          "data": {
            "image/png": "[encoded data removed]",
            "text/plain": [
              "<Figure size 640x480 with 12 Axes>"
            ]
          },
          "metadata": {},
          "output_type": "display_data"
        }
      ],
      "source": [
        "import matplotlib.pyplot as plt\n",
        "\n",
        "batch_data, batch_label = next(iter(train_loader))\n",
        "\n",
        "fig = plt.figure()\n",
        "\n",
        "for i in range(12):\n",
        "  plt.subplot(3,4,i+1)\n",
        "  plt.tight_layout()\n",
        "  plt.imshow(batch_data[i].squeeze(0), cmap='gray')\n",
        "  plt.title(batch_label[i].item())\n",
        "  plt.xticks([])\n",
        "  plt.yticks([])"
      ]
    },
    {
      "cell_type": "markdown",
      "metadata": {
        "id": "y3XbVJSb7Aee"
      },
      "source": [
        "CODE BLOCK: 7"
      ]
    },
    {
      "cell_type": "code",
      "execution_count": 29,
      "metadata": {
        "id": "FVKyEeuojdBJ"
      },
      "outputs": [],
      "source": [
        "import torch\n",
        "import torch.nn as nn\n",
        "import torch.nn.functional as F\n",
        "\n",
        "class NetOptimized(nn.Module):\n",
        "    def __init__(self):\n",
        "        super(NetOptimized, self).__init__()\n",
        "\n",
        "        # --- BLOCK 1 ---\n",
        "        self.conv1 = nn.Conv2d(1, 10, 3, padding=1)\n",
        "        self.bn1 = nn.BatchNorm2d(10)\n",
        "        self.conv2 = nn.Conv2d(10, 14, 3, padding=1)\n",
        "        self.bn2 = nn.BatchNorm2d(14)\n",
        "        self.conv3 = nn.Conv2d(14, 20, 3, padding=1)\n",
        "        self.bn3 = nn.BatchNorm2d(20)\n",
        "        self.pool1 = nn.MaxPool2d(2,2)\n",
        "        self.drop1 = nn.Dropout2d(0.05)\n",
        "\n",
        "        # --- BLOCK 2 ---\n",
        "        self.conv4 = nn.Conv2d(20, 24, 3, padding=1)\n",
        "        self.bn4 = nn.BatchNorm2d(24)\n",
        "        self.conv5 = nn.Conv2d(24, 20, 3, padding=1)\n",
        "        self.bn5 = nn.BatchNorm2d(20)\n",
        "        self.pool2 = nn.MaxPool2d(2,2)\n",
        "        self.drop2 = nn.Dropout2d(0.1)\n",
        "\n",
        "        # --- BLOCK 3 ---\n",
        "        self.conv6 = nn.Conv2d(20, 20, 3, padding=1)\n",
        "        self.bn6 = nn.BatchNorm2d(20)\n",
        "        self.conv7 = nn.Conv2d(20, 16, 3, padding=1)\n",
        "        self.bn7 = nn.BatchNorm2d(16)\n",
        "        self.drop3 = nn.Dropout2d(0.1)\n",
        "\n",
        "        # --- GAP + Classifier ---\n",
        "        self.gap = nn.AdaptiveAvgPool2d(1)\n",
        "        self.classifier = nn.Conv2d(16, 10, 1)\n",
        "\n",
        "    def forward(self, x):\n",
        "        # BLOCK 1\n",
        "        x = F.relu(self.bn1(self.conv1(x)))\n",
        "        x = F.relu(self.bn2(self.conv2(x)))\n",
        "        x = F.relu(self.bn3(self.conv3(x)))\n",
        "        x = self.pool1(x)\n",
        "        x = self.drop1(x)\n",
        "\n",
        "        # BLOCK 2\n",
        "        x = F.relu(self.bn4(self.conv4(x)))\n",
        "        x = F.relu(self.bn5(self.conv5(x)))\n",
        "        x = self.pool2(x)\n",
        "        x = self.drop2(x)\n",
        "\n",
        "        # BLOCK 3\n",
        "        x = F.relu(self.bn6(self.conv6(x)))\n",
        "        x = F.relu(self.bn7(self.conv7(x)))\n",
        "        x = self.drop3(x)\n",
        "\n",
        "        # GAP + Classifier\n",
        "        x = self.gap(x)\n",
        "        x = self.classifier(x)\n",
        "        x = torch.flatten(x, 1)\n",
        "        return F.log_softmax(x, dim=1)"
      ]
    },
    {
      "cell_type": "code",
      "execution_count": 30,
      "metadata": {
        "colab": {
          "base_uri": "https://localhost:8080/"
        },
        "id": "barFeeT0Z0-E",
        "outputId": "183f4c98-394d-48c4-ff7c-b74d959726cc"
      },
      "outputs": [
        {
          "name": "stdout",
          "output_type": "stream",
          "text": [
            "----------------------------------------------------------------\n",
            "        Layer (type)               Output Shape         Param #\n",
            "================================================================\n",
            "            Conv2d-1           [-1, 10, 28, 28]             100\n",
            "       BatchNorm2d-2           [-1, 10, 28, 28]              20\n",
            "            Conv2d-3           [-1, 14, 28, 28]           1,274\n",
            "       BatchNorm2d-4           [-1, 14, 28, 28]              28\n",
            "            Conv2d-5           [-1, 20, 28, 28]           2,540\n",
            "       BatchNorm2d-6           [-1, 20, 28, 28]              40\n",
            "         MaxPool2d-7           [-1, 20, 14, 14]               0\n",
            "         Dropout2d-8           [-1, 20, 14, 14]               0\n",
            "            Conv2d-9           [-1, 24, 14, 14]           4,344\n",
            "      BatchNorm2d-10           [-1, 24, 14, 14]              48\n",
            "           Conv2d-11           [-1, 20, 14, 14]           4,340\n",
            "      BatchNorm2d-12           [-1, 20, 14, 14]              40\n",
            "        MaxPool2d-13             [-1, 20, 7, 7]               0\n",
            "        Dropout2d-14             [-1, 20, 7, 7]               0\n",
            "           Conv2d-15             [-1, 20, 7, 7]           3,620\n",
            "      BatchNorm2d-16             [-1, 20, 7, 7]              40\n",
            "           Conv2d-17             [-1, 16, 7, 7]           2,896\n",
            "      BatchNorm2d-18             [-1, 16, 7, 7]              32\n",
            "        Dropout2d-19             [-1, 16, 7, 7]               0\n",
            "AdaptiveAvgPool2d-20             [-1, 16, 1, 1]               0\n",
            "           Conv2d-21             [-1, 10, 1, 1]             170\n",
            "================================================================\n",
            "Total params: 19,532\n",
            "Trainable params: 19,532\n",
            "Non-trainable params: 0\n",
            "----------------------------------------------------------------\n",
            "Input size (MB): 0.00\n",
            "Forward/backward pass size (MB): 0.77\n",
            "Params size (MB): 0.07\n",
            "Estimated Total Size (MB): 0.84\n",
            "----------------------------------------------------------------\n"
          ]
        }
      ],
      "source": [
        "from torchsummary import summary\n",
        "use_cuda = torch.cuda.is_available()\n",
        "device = torch.device(\"cuda\" if use_cuda else \"cpu\")\n",
        "# model = Net().to(device)\n",
        "model = NetOptimized().to(device)\n",
        "summary(model, input_size=(1, 28, 28))"
      ]
    },
    {
      "cell_type": "markdown",
      "metadata": {
        "id": "89gd4_s7AO2y"
      },
      "source": [
        "CODE BLOCK: 8"
      ]
    },
    {
      "cell_type": "code",
      "execution_count": 15,
      "metadata": {
        "id": "7du4zM474LvT"
      },
      "outputs": [],
      "source": [
        "# Data to plot accuracy and loss graphs\n",
        "train_losses = []\n",
        "test_losses = []\n",
        "train_acc = []\n",
        "test_acc = []\n",
        "\n",
        "test_incorrect_pred = {'images': [], 'ground_truths': [], 'predicted_vals': []}"
      ]
    },
    {
      "cell_type": "markdown",
      "metadata": {
        "id": "kCwIPHqwAQgB"
      },
      "source": [
        "CODE BLOCK: 9"
      ]
    },
    {
      "cell_type": "code",
      "execution_count": 16,
      "metadata": {
        "id": "gpNw3-sy4QGd"
      },
      "outputs": [],
      "source": [
        "from tqdm import tqdm\n",
        "import torch\n",
        "import torch.nn.functional as F\n",
        "\n",
        "def GetCorrectPredCount(pPrediction, pLabels):\n",
        "    \"\"\"\n",
        "    pPrediction: Tensor of shape [batch_size, num_classes]\n",
        "        Example: [[2.5, 0.3, -1.0],   # sample 1 logits\n",
        "                  [-1.0, 0.3, 2.5]]   # sample 2 logits\n",
        "\n",
        "    pLabels: Tensor of shape [batch_size]\n",
        "        Example: [0, 2]   # true labels (class indices)\n",
        "\n",
        "    Process:\n",
        "      1. pPrediction.argmax(dim=1) → picks class with max logit per sample\n",
        "         Example: [0, 2]\n",
        "      2. Compare with pLabels → [True, True]\n",
        "      3. Sum → number of correct predictions (2 in this case)\n",
        "\n",
        "    Returns:\n",
        "      Integer: number of correct predictions in this batch\n",
        "    \"\"\"\n",
        "    return pPrediction.argmax(dim=1).eq(pLabels).sum().item()\n",
        "\n",
        "def train(model, device, train_loader, optimizer, criterion):\n",
        "    model.train()  # Enable training mode (dropout/batchnorm active)\n",
        "    pbar = tqdm(train_loader)\n",
        "\n",
        "    train_loss = 0\n",
        "    correct = 0\n",
        "    processed = 0\n",
        "\n",
        "    for batch_idx, (data, target) in enumerate(pbar):\n",
        "        \"\"\"\n",
        "        batch_idx: integer, index of the current batch (0, 1, 2, ...)\n",
        "        data: tensor of shape [batch_size, channels, height, width]\n",
        "              Example: [64, 1, 28, 28] for MNIST batch of 64 images\n",
        "              data[0] = first image in batch, shape [1,28,28]\n",
        "        target: tensor of shape [batch_size]\n",
        "                Example: [5, 0, 3, ...] labels for each image in the batch\n",
        "        This line fetches a **single batch** from the DataLoader each iteration.\n",
        "        \"\"\"\n",
        "\n",
        "        data, target = data.to(device), target.to(device)\n",
        "        optimizer.zero_grad()  # Reset gradients from previous step\n",
        "\n",
        "        # 1️⃣ Forward pass: model transforms input → logits\n",
        "        # Internal call: model(data) → triggers model.forward(data)\n",
        "        pred = model(data)\n",
        "        # Example shapes:\n",
        "        # data: [2,1,28,28], pred: [2,10] (2 images, 10 classes)\n",
        "        # Each row in pred = raw scores (logits) for each class\n",
        "\n",
        "        # 2️⃣ Compute loss\n",
        "        # criterion = nn.CrossEntropyLoss()\n",
        "        # Internally:\n",
        "        #    - softmax(pred) → probabilities\n",
        "        #    - negative log likelihood of true class\n",
        "        # Example:\n",
        "        # pred[0] = [2.5, 0.3, -1.0, ...] (logits)\n",
        "        # target[0] = 0\n",
        "        # -log(softmax(pred[0])[0]) = contribution to loss check about softmax here: https://www.notion.so/Vision-a80ad2dc4f88489bb3ecc45eac005ea2?source=copy_link#2692ba0a615b808b87a1d7d9d5d0da0c\n",
        "        loss = criterion(pred, target)\n",
        "        train_loss += loss.item()  # accumulate scalar loss\n",
        "\n",
        "        # 3️⃣ Backward pass: compute gradients\n",
        "        loss.backward()\n",
        "\n",
        "        # 4️⃣ Optimizer step: update weights\n",
        "        optimizer.step()\n",
        "\n",
        "        # 5️⃣ Track training accuracy\n",
        "        correct += GetCorrectPredCount(pred, target)\n",
        "        processed += len(data)\n",
        "\n",
        "        # Update progress bar\n",
        "        pbar.set_description(desc=f'Train: Loss={loss.item():0.4f} '\n",
        "                                   f'Batch_id={batch_idx} '\n",
        "                                   f'Accuracy={100*correct/processed:0.2f}')\n",
        "\n",
        "    # Store epoch-level metrics\n",
        "    train_acc.append(100 * correct / processed)\n",
        "    train_losses.append(train_loss / len(train_loader))\n",
        "\n",
        "def test(model, device, test_loader, criterion):\n",
        "    model.eval()  # Evaluation mode (dropout/batchnorm frozen)\n",
        "\n",
        "    test_loss = 0\n",
        "    correct = 0\n",
        "\n",
        "    with torch.no_grad():  # Disable gradient computation\n",
        "        for batch_idx, (data, target) in enumerate(test_loader):\n",
        "            \"\"\"\n",
        "            Forward pass only (no backward):\n",
        "              - Compute output logits for the batch\n",
        "              - Do not compute gradients (no memory overhead)\n",
        "            batch_idx: index of batch\n",
        "            data: [batch_size, channels, height, width]\n",
        "            target: [batch_size] true labels\n",
        "            \"\"\"\n",
        "\n",
        "            data, target = data.to(device), target.to(device)\n",
        "\n",
        "            # 1️⃣ Forward pass only (no weight updates)\n",
        "            output = model(data)\n",
        "            # output shape: [batch_size, num_classes]\n",
        "            # Each row = logits for that image\n",
        "\n",
        "            # 2️⃣ Compute batch loss\n",
        "            test_loss += criterion(output, target).item()\n",
        "\n",
        "            # 3️⃣ Count correct predictions\n",
        "            correct += GetCorrectPredCount(output, target)\n",
        "\n",
        "    # Average test loss across all samples\n",
        "    test_loss /= len(test_loader.dataset)\n",
        "\n",
        "    # Test accuracy\n",
        "    test_acc.append(100. * correct / len(test_loader.dataset))\n",
        "    test_losses.append(test_loss)\n",
        "\n",
        "    print('Test set: Average loss: {:.4f}, Accuracy: {}/{} ({:.2f}%)\\n'.format(\n",
        "        test_loss, correct, len(test_loader.dataset),\n",
        "        100. * correct / len(test_loader.dataset)))\n"
      ]
    },
    {
      "cell_type": "markdown",
      "metadata": {
        "id": "09GYKBGRAT5M"
      },
      "source": [
        "CODE BLOCK: 10"
      ]
    },
    {
      "cell_type": "code",
      "execution_count": null,
      "metadata": {
        "colab": {
          "base_uri": "https://localhost:8080/"
        },
        "id": "Owqiet9M4TV7",
        "outputId": "4a955382-c841-4506-8610-2de701c4e779"
      },
      "outputs": [
        {
          "name": "stdout",
          "output_type": "stream",
          "text": [
            "Epoch 1\n"
          ]
        },
        {
          "name": "stderr",
          "output_type": "stream",
          "text": [
            "Train: Loss=0.1225 Batch_id=468 Accuracy=89.23: 100%|██████████| 469/469 [00:20<00:00, 22.74it/s]\n"
          ]
        },
        {
          "name": "stdout",
          "output_type": "stream",
          "text": [
            "Test set: Average loss: 0.0007, Accuracy: 9715/10000 (97.15%)\n",
            "\n",
            "Epoch 2\n"
          ]
        },
        {
          "name": "stderr",
          "output_type": "stream",
          "text": [
            "Train: Loss=0.0647 Batch_id=468 Accuracy=96.42: 100%|██████████| 469/469 [00:21<00:00, 22.31it/s]\n"
          ]
        },
        {
          "name": "stdout",
          "output_type": "stream",
          "text": [
            "Test set: Average loss: 0.0004, Accuracy: 9852/10000 (98.52%)\n",
            "\n",
            "Epoch 3\n"
          ]
        },
        {
          "name": "stderr",
          "output_type": "stream",
          "text": [
            "Train: Loss=0.0659 Batch_id=468 Accuracy=97.33: 100%|██████████| 469/469 [00:21<00:00, 22.26it/s]\n"
          ]
        },
        {
          "name": "stdout",
          "output_type": "stream",
          "text": [
            "Test set: Average loss: 0.0003, Accuracy: 9888/10000 (98.88%)\n",
            "\n",
            "Epoch 4\n"
          ]
        },
        {
          "name": "stderr",
          "output_type": "stream",
          "text": [
            "Train: Loss=0.0311 Batch_id=468 Accuracy=97.61: 100%|██████████| 469/469 [00:19<00:00, 23.95it/s]\n"
          ]
        },
        {
          "name": "stdout",
          "output_type": "stream",
          "text": [
            "Test set: Average loss: 0.0003, Accuracy: 9867/10000 (98.67%)\n",
            "\n",
            "Epoch 5\n"
          ]
        },
        {
          "name": "stderr",
          "output_type": "stream",
          "text": [
            "Train: Loss=0.1303 Batch_id=468 Accuracy=97.86: 100%|██████████| 469/469 [00:19<00:00, 23.59it/s]\n"
          ]
        },
        {
          "name": "stdout",
          "output_type": "stream",
          "text": [
            "Test set: Average loss: 0.0003, Accuracy: 9875/10000 (98.75%)\n",
            "\n",
            "Epoch 6\n"
          ]
        },
        {
          "name": "stderr",
          "output_type": "stream",
          "text": [
            "Train: Loss=0.0428 Batch_id=468 Accuracy=98.14: 100%|██████████| 469/469 [00:20<00:00, 22.51it/s]\n"
          ]
        },
        {
          "name": "stdout",
          "output_type": "stream",
          "text": [
            "Test set: Average loss: 0.0003, Accuracy: 9892/10000 (98.92%)\n",
            "\n",
            "Epoch 7\n"
          ]
        },
        {
          "name": "stderr",
          "output_type": "stream",
          "text": [
            "Train: Loss=0.0116 Batch_id=468 Accuracy=98.20: 100%|██████████| 469/469 [00:20<00:00, 22.39it/s]\n"
          ]
        },
        {
          "name": "stdout",
          "output_type": "stream",
          "text": [
            "Test set: Average loss: 0.0002, Accuracy: 9915/10000 (99.15%)\n",
            "\n",
            "Epoch 8\n"
          ]
        },
        {
          "name": "stderr",
          "output_type": "stream",
          "text": [
            "Train: Loss=0.0347 Batch_id=468 Accuracy=98.29: 100%|██████████| 469/469 [00:21<00:00, 22.09it/s]\n"
          ]
        },
        {
          "name": "stdout",
          "output_type": "stream",
          "text": [
            "Test set: Average loss: 0.0002, Accuracy: 9913/10000 (99.13%)\n",
            "\n",
            "Epoch 9\n"
          ]
        },
        {
          "name": "stderr",
          "output_type": "stream",
          "text": [
            "Train: Loss=0.0410 Batch_id=468 Accuracy=98.50: 100%|██████████| 469/469 [00:21<00:00, 22.20it/s]\n"
          ]
        },
        {
          "name": "stdout",
          "output_type": "stream",
          "text": [
            "Test set: Average loss: 0.0002, Accuracy: 9911/10000 (99.11%)\n",
            "\n",
            "Epoch 10\n"
          ]
        },
        {
          "name": "stderr",
          "output_type": "stream",
          "text": [
            "Train: Loss=0.0657 Batch_id=468 Accuracy=98.39: 100%|██████████| 469/469 [00:20<00:00, 23.09it/s]\n"
          ]
        },
        {
          "name": "stdout",
          "output_type": "stream",
          "text": [
            "Test set: Average loss: 0.0002, Accuracy: 9910/10000 (99.10%)\n",
            "\n",
            "Epoch 11\n"
          ]
        },
        {
          "name": "stderr",
          "output_type": "stream",
          "text": [
            "Train: Loss=0.0127 Batch_id=468 Accuracy=98.54: 100%|██████████| 469/469 [00:20<00:00, 23.06it/s]\n"
          ]
        },
        {
          "name": "stdout",
          "output_type": "stream",
          "text": [
            "Test set: Average loss: 0.0002, Accuracy: 9923/10000 (99.23%)\n",
            "\n",
            "Epoch 12\n"
          ]
        },
        {
          "name": "stderr",
          "output_type": "stream",
          "text": [
            "Train: Loss=0.0414 Batch_id=468 Accuracy=98.52: 100%|██████████| 469/469 [00:20<00:00, 23.16it/s]\n"
          ]
        },
        {
          "name": "stdout",
          "output_type": "stream",
          "text": [
            "Test set: Average loss: 0.0003, Accuracy: 9887/10000 (98.87%)\n",
            "\n",
            "Epoch 13\n"
          ]
        },
        {
          "name": "stderr",
          "output_type": "stream",
          "text": [
            "Train: Loss=0.0355 Batch_id=468 Accuracy=98.65: 100%|██████████| 469/469 [00:20<00:00, 22.49it/s]\n"
          ]
        },
        {
          "name": "stdout",
          "output_type": "stream",
          "text": [
            "Test set: Average loss: 0.0002, Accuracy: 9922/10000 (99.22%)\n",
            "\n",
            "Epoch 14\n"
          ]
        },
        {
          "name": "stderr",
          "output_type": "stream",
          "text": [
            "Train: Loss=0.0526 Batch_id=468 Accuracy=98.64: 100%|██████████| 469/469 [00:21<00:00, 22.22it/s]\n"
          ]
        },
        {
          "name": "stdout",
          "output_type": "stream",
          "text": [
            "Test set: Average loss: 0.0002, Accuracy: 9929/10000 (99.29%)\n",
            "\n",
            "Epoch 15\n"
          ]
        },
        {
          "name": "stderr",
          "output_type": "stream",
          "text": [
            "Train: Loss=0.0440 Batch_id=468 Accuracy=98.68: 100%|██████████| 469/469 [00:20<00:00, 22.44it/s]\n"
          ]
        },
        {
          "name": "stdout",
          "output_type": "stream",
          "text": [
            "Test set: Average loss: 0.0002, Accuracy: 9945/10000 (99.45%)\n",
            "\n",
            "Epoch 16\n"
          ]
        },
        {
          "name": "stderr",
          "output_type": "stream",
          "text": [
            "Train: Loss=0.1297 Batch_id=468 Accuracy=98.77: 100%|██████████| 469/469 [00:20<00:00, 22.63it/s]\n"
          ]
        },
        {
          "name": "stdout",
          "output_type": "stream",
          "text": [
            "Test set: Average loss: 0.0002, Accuracy: 9909/10000 (99.09%)\n",
            "\n",
            "Epoch 17\n"
          ]
        },
        {
          "name": "stderr",
          "output_type": "stream",
          "text": [
            "Train: Loss=0.0638 Batch_id=468 Accuracy=98.71: 100%|██████████| 469/469 [00:20<00:00, 23.28it/s]\n"
          ]
        },
        {
          "name": "stdout",
          "output_type": "stream",
          "text": [
            "Test set: Average loss: 0.0002, Accuracy: 9917/10000 (99.17%)\n",
            "\n",
            "Epoch 18\n"
          ]
        },
        {
          "name": "stderr",
          "output_type": "stream",
          "text": [
            "Train: Loss=0.0748 Batch_id=468 Accuracy=98.77: 100%|██████████| 469/469 [00:19<00:00, 23.55it/s]\n"
          ]
        },
        {
          "name": "stdout",
          "output_type": "stream",
          "text": [
            "Test set: Average loss: 0.0002, Accuracy: 9930/10000 (99.30%)\n",
            "\n",
            "Epoch 19\n"
          ]
        },
        {
          "name": "stderr",
          "output_type": "stream",
          "text": [
            "Train: Loss=0.0222 Batch_id=468 Accuracy=98.83: 100%|██████████| 469/469 [00:20<00:00, 23.23it/s]\n"
          ]
        },
        {
          "name": "stdout",
          "output_type": "stream",
          "text": [
            "Test set: Average loss: 0.0002, Accuracy: 9915/10000 (99.15%)\n",
            "\n",
            "Epoch 20\n"
          ]
        },
        {
          "name": "stderr",
          "output_type": "stream",
          "text": [
            "Train: Loss=0.0316 Batch_id=468 Accuracy=98.93: 100%|██████████| 469/469 [00:21<00:00, 22.32it/s]\n"
          ]
        },
        {
          "name": "stdout",
          "output_type": "stream",
          "text": [
            "Test set: Average loss: 0.0001, Accuracy: 9947/10000 (99.47%)\n",
            "\n"
          ]
        }
      ],
      "source": [
        "device = 'cuda'\n",
        "model = NetOptimized().to(device)\n",
        "optimizer = optim.Adam(model.parameters(), lr=0.01)\n",
        "# scheduler = optim.lr_scheduler.StepLR(optimizer, step_size=6, gamma=0.1)\n",
        "\n",
        "criterion = nn.CrossEntropyLoss()\n",
        "num_epochs = 20\n",
        "\n",
        "for epoch in range(1, num_epochs+1):\n",
        "  print(f'Epoch {epoch}')\n",
        "  train(model, device, train_loader, optimizer, criterion)\n",
        "  test(model, device, test_loader, criterion)\n",
        "  # scheduler.step()"
      ]
    }
  ],
  "metadata": {
    "accelerator": "GPU",
    "colab": {
      "gpuType": "T4",
      "provenance": []
    },
    "kernelspec": {
      "display_name": "Python 3",
      "name": "python3"
    },
    "language_info": {
      "name": "python"
    }
  },
  "nbformat": 4,
  "nbformat_minor": 0
}
