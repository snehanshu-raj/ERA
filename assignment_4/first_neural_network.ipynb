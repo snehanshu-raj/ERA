{
  "nbformat": 4,
  "nbformat_minor": 0,
  "metadata": {
    "colab": {
      "provenance": [],
      "gpuType": "T4"
    },
    "kernelspec": {
      "name": "python3",
      "display_name": "Python 3"
    },
    "language_info": {
      "name": "python"
    },
    "accelerator": "GPU"
  },
  "cells": [
    {
      "cell_type": "markdown",
      "source": [
        "CODE BLOCK: 1"
      ],
      "metadata": {
        "id": "n09vaEgP6pLj"
      }
    },
    {
      "cell_type": "code",
      "execution_count": 1,
      "metadata": {
        "id": "6PlbomWY3RSq"
      },
      "outputs": [],
      "source": [
        "import torch\n",
        "import torch.nn as nn\n",
        "import torch.nn.functional as F\n",
        "import torch.optim as optim\n",
        "from torchvision import datasets, transforms"
      ]
    },
    {
      "cell_type": "markdown",
      "source": [
        "CODE BLOCK: 2"
      ],
      "metadata": {
        "id": "VjBHHQVA6sXt"
      }
    },
    {
      "cell_type": "code",
      "source": [
        "# CUDA?\n",
        "cuda = torch.cuda.is_available()\n",
        "print(\"CUDA Available?\", cuda)"
      ],
      "metadata": {
        "colab": {
          "base_uri": "https://localhost:8080/"
        },
        "id": "94BxVVBP3WwS",
        "outputId": "0c61bd20-e771-402a-bc5a-c335fb2e053a"
      },
      "execution_count": 2,
      "outputs": [
        {
          "output_type": "stream",
          "name": "stdout",
          "text": [
            "CUDA Available? True\n"
          ]
        }
      ]
    },
    {
      "cell_type": "markdown",
      "source": [
        "CODE BLOCK: 3"
      ],
      "metadata": {
        "id": "3UHq59Sw6tmW"
      }
    },
    {
      "cell_type": "code",
      "source": [
        "# Train data transformations\n",
        "train_transforms = transforms.Compose([\n",
        "    transforms.RandomApply([transforms.CenterCrop(22), ], p=0.1),\n",
        "    transforms.Resize((28, 28)),\n",
        "    transforms.RandomRotation((-15., 15.), fill=0),\n",
        "    transforms.ToTensor(),\n",
        "    transforms.Normalize((0.1307,), (0.3081,)),\n",
        "    ])\n",
        "\n",
        "# Test data transformations\n",
        "test_transforms = transforms.Compose([\n",
        "    transforms.ToTensor(),\n",
        "    transforms.Normalize((0.1407,), (0.4081,))\n",
        "    ])"
      ],
      "metadata": {
        "id": "KpshQ2Ug38m2"
      },
      "execution_count": 3,
      "outputs": []
    },
    {
      "cell_type": "markdown",
      "source": [
        "CODE BLOCK: 4"
      ],
      "metadata": {
        "id": "zQm17pM46zHL"
      }
    },
    {
      "cell_type": "code",
      "source": [
        "train_data = datasets.MNIST('../data', train=True, download=True, transform=train_transforms)\n",
        "test_data = datasets.MNIST('../data', train=False, download=True, transform=train_transforms)"
      ],
      "metadata": {
        "colab": {
          "base_uri": "https://localhost:8080/"
        },
        "id": "JB79ZYW13-AO",
        "outputId": "baff8d2c-a1cd-4da0-f2ca-9d38bbc8dc7f"
      },
      "execution_count": 4,
      "outputs": [
        {
          "output_type": "stream",
          "name": "stderr",
          "text": [
            "100%|██████████| 9.91M/9.91M [00:00<00:00, 17.9MB/s]\n",
            "100%|██████████| 28.9k/28.9k [00:00<00:00, 479kB/s]\n",
            "100%|██████████| 1.65M/1.65M [00:00<00:00, 4.44MB/s]\n",
            "100%|██████████| 4.54k/4.54k [00:00<00:00, 9.05MB/s]\n"
          ]
        }
      ]
    },
    {
      "cell_type": "markdown",
      "source": [
        "CODE BLOCK: 5"
      ],
      "metadata": {
        "id": "_PKSHxto6116"
      }
    },
    {
      "cell_type": "code",
      "source": [
        "batch_size = 512\n",
        "\n",
        "kwargs = {'batch_size': batch_size, 'shuffle': True, 'num_workers': 2, 'pin_memory': True}\n",
        "\n",
        "test_loader = torch.utils.data.DataLoader(test_data, **kwargs)\n",
        "train_loader = torch.utils.data.DataLoader(train_data, **kwargs)"
      ],
      "metadata": {
        "id": "avCKK1uL4A68"
      },
      "execution_count": 5,
      "outputs": []
    },
    {
      "cell_type": "markdown",
      "source": [
        "CODE BLOCK: 6"
      ],
      "metadata": {
        "id": "Hi_0rfq56-29"
      }
    },
    {
      "cell_type": "code",
      "source": [
        "import matplotlib.pyplot as plt\n",
        "\n",
        "batch_data, batch_label = next(iter(train_loader))\n",
        "\n",
        "fig = plt.figure()\n",
        "\n",
        "for i in range(12):\n",
        "  plt.subplot(3,4,i+1)\n",
        "  plt.tight_layout()\n",
        "  plt.imshow(batch_data[i].squeeze(0), cmap='gray')\n",
        "  plt.title(batch_label[i].item())\n",
        "  plt.xticks([])\n",
        "  plt.yticks([])"
      ],
      "metadata": {
        "colab": {
          "base_uri": "https://localhost:8080/",
          "height": 463
        },
        "id": "Hx7QkLcw4Epc",
        "outputId": "bac57f95-3525-4834-c434-2bd24a166ada"
      },
      "execution_count": 6,
      "outputs": [
        {
          "output_type": "display_data",
          "data": {
            "text/plain": [
              "<Figure size 640x480 with 12 Axes>"
            ],
            "image/png": "[encoded data removed]"
          },
          "metadata": {}
        }
      ]
    },
    {
      "cell_type": "markdown",
      "source": [
        "CODE BLOCK: 7"
      ],
      "metadata": {
        "id": "y3XbVJSb7Aee"
      }
    },
    {
      "cell_type": "code",
      "source": [
        "class Net(nn.Module):\n",
        "    def __init__(self):\n",
        "        super(Net, self).__init__()\n",
        "        # Input: 1 channel x 28 height x 28 width.\n",
        "        self.conv1 = nn.Conv2d(1, 8, 3, padding=1)    # output -> 8x28x28, parameters here -> 1*8*3*3=72, parameters_total -> 72\n",
        "        # 1 → number of input channels (MNIST is grayscale → 1 channel)\n",
        "        # 8 → number of output channels (this layer produces 8 feature maps)\n",
        "        # 3 → kernel size (3x3 filter)\n",
        "        # padding=1 → pads the input with 1 pixel on all sides → keeps output size same as input\n",
        "        # parameter count = in_channel x out_channel x kernel_height x kernel_width\n",
        "\n",
        "        self.conv2 = nn.Conv2d(8, 16, 3, padding=1)   # output -> 16x28x28, paramters here -> 8*16*3*3=1152, parameters_total -> 1152+72=1224\n",
        "        self.pool = nn.MaxPool2d(2, 2)                # output -> 16x14x14, paramters here -> no effect, parameters_total -> no effect\n",
        "        # (kernel_size, stride)\n",
        "        # MaxPool reduces H and W by 2 (stride=2)\n",
        "        # Output shape: 16 × 14 × 14\n",
        "        # Parameters: 0 (pooling has no learnable parameters)\n",
        "\n",
        "        self.conv3 = nn.Conv2d(16, 16, 3, padding=1)  # -> 16x14x14 paramters here -> 16*16*3*3, parameters_total -> 2304+1224=3528\n",
        "        self.conv4 = nn.Conv2d(16, 32, 3, padding=1)  # -> 32x14x14 paramters here -> 16*32*3*3, parameters_total -> 4608+3528=8136\n",
        "        self.pool2 = nn.MaxPool2d(2, 2)               # -> 32x7x7 no effect, only dimension decreases\n",
        "\n",
        "        self.fc1 = nn.Linear(32*7*7, 10)              # -> paramters here -> 32*7*7*10=15680, parameters_total -> 15680+8136=23816\n",
        "\n",
        "    def forward(self, x):\n",
        "        x = F.relu(self.conv1(x))\n",
        "        x = F.relu(self.conv2(x))\n",
        "        x = self.pool(x)\n",
        "        x = F.relu(self.conv3(x))\n",
        "        x = F.relu(self.conv4(x))\n",
        "        x = self.pool2(x)\n",
        "        x = x.view(x.size(0), -1)\n",
        "        x = self.fc1(x)\n",
        "        return F.log_softmax(x, dim=1)\n"
      ],
      "metadata": {
        "id": "UHBolvMH4F8y"
      },
      "execution_count": 7,
      "outputs": []
    },
    {
      "cell_type": "markdown",
      "source": [
        "CODE BLOCK: 8"
      ],
      "metadata": {
        "id": "89gd4_s7AO2y"
      }
    },
    {
      "cell_type": "code",
      "source": [
        "# Data to plot accuracy and loss graphs\n",
        "train_losses = []\n",
        "test_losses = []\n",
        "train_acc = []\n",
        "test_acc = []\n",
        "\n",
        "test_incorrect_pred = {'images': [], 'ground_truths': [], 'predicted_vals': []}"
      ],
      "metadata": {
        "id": "7du4zM474LvT"
      },
      "execution_count": 8,
      "outputs": []
    },
    {
      "cell_type": "markdown",
      "source": [
        "CODE BLOCK: 9"
      ],
      "metadata": {
        "id": "kCwIPHqwAQgB"
      }
    },
    {
      "cell_type": "code",
      "source": [
        "from tqdm import tqdm\n",
        "import torch\n",
        "import torch.nn.functional as F\n",
        "\n",
        "def GetCorrectPredCount(pPrediction, pLabels):\n",
        "    \"\"\"\n",
        "    pPrediction: Tensor of shape [batch_size, num_classes]\n",
        "        Example: [[2.5, 0.3, -1.0],   # sample 1 logits\n",
        "                  [-1.0, 0.3, 2.5]]   # sample 2 logits\n",
        "\n",
        "    pLabels: Tensor of shape [batch_size]\n",
        "        Example: [0, 2]   # true labels (class indices)\n",
        "\n",
        "    Process:\n",
        "      1. pPrediction.argmax(dim=1) → picks class with max logit per sample\n",
        "         Example: [0, 2]\n",
        "      2. Compare with pLabels → [True, True]\n",
        "      3. Sum → number of correct predictions (2 in this case)\n",
        "\n",
        "    Returns:\n",
        "      Integer: number of correct predictions in this batch\n",
        "    \"\"\"\n",
        "    return pPrediction.argmax(dim=1).eq(pLabels).sum().item()\n",
        "\n",
        "def train(model, device, train_loader, optimizer, criterion):\n",
        "    model.train()  # Enable training mode (dropout/batchnorm active)\n",
        "    pbar = tqdm(train_loader)\n",
        "\n",
        "    train_loss = 0\n",
        "    correct = 0\n",
        "    processed = 0\n",
        "\n",
        "    for batch_idx, (data, target) in enumerate(pbar):\n",
        "        \"\"\"\n",
        "        batch_idx: integer, index of the current batch (0, 1, 2, ...)\n",
        "        data: tensor of shape [batch_size, channels, height, width]\n",
        "              Example: [64, 1, 28, 28] for MNIST batch of 64 images\n",
        "              data[0] = first image in batch, shape [1,28,28]\n",
        "        target: tensor of shape [batch_size]\n",
        "                Example: [5, 0, 3, ...] labels for each image in the batch\n",
        "        This line fetches a **single batch** from the DataLoader each iteration.\n",
        "        \"\"\"\n",
        "\n",
        "        data, target = data.to(device), target.to(device)\n",
        "        optimizer.zero_grad()  # Reset gradients from previous step\n",
        "\n",
        "        # 1️⃣ Forward pass: model transforms input → logits\n",
        "        # Internal call: model(data) → triggers model.forward(data)\n",
        "        pred = model(data)\n",
        "        # Example shapes:\n",
        "        # data: [2,1,28,28], pred: [2,10] (2 images, 10 classes)\n",
        "        # Each row in pred = raw scores (logits) for each class\n",
        "\n",
        "        # 2️⃣ Compute loss\n",
        "        # criterion = nn.CrossEntropyLoss()\n",
        "        # Internally:\n",
        "        #    - softmax(pred) → probabilities\n",
        "        #    - negative log likelihood of true class\n",
        "        # Example:\n",
        "        # pred[0] = [2.5, 0.3, -1.0, ...] (logits)\n",
        "        # target[0] = 0\n",
        "        # -log(softmax(pred[0])[0]) = contribution to loss check about softmax here: https://www.notion.so/Vision-a80ad2dc4f88489bb3ecc45eac005ea2?source=copy_link#2692ba0a615b808b87a1d7d9d5d0da0c\n",
        "        loss = criterion(pred, target)\n",
        "        train_loss += loss.item()  # accumulate scalar loss\n",
        "\n",
        "        # 3️⃣ Backward pass: compute gradients\n",
        "        loss.backward()\n",
        "\n",
        "        # 4️⃣ Optimizer step: update weights\n",
        "        optimizer.step()\n",
        "\n",
        "        # 5️⃣ Track training accuracy\n",
        "        correct += GetCorrectPredCount(pred, target)\n",
        "        processed += len(data)\n",
        "\n",
        "        # Update progress bar\n",
        "        pbar.set_description(desc=f'Train: Loss={loss.item():0.4f} '\n",
        "                                   f'Batch_id={batch_idx} '\n",
        "                                   f'Accuracy={100*correct/processed:0.2f}')\n",
        "\n",
        "    # Store epoch-level metrics\n",
        "    train_acc.append(100 * correct / processed)\n",
        "    train_losses.append(train_loss / len(train_loader))\n",
        "\n",
        "def test(model, device, test_loader, criterion):\n",
        "    model.eval()  # Evaluation mode (dropout/batchnorm frozen)\n",
        "\n",
        "    test_loss = 0\n",
        "    correct = 0\n",
        "\n",
        "    with torch.no_grad():  # Disable gradient computation\n",
        "        for batch_idx, (data, target) in enumerate(test_loader):\n",
        "            \"\"\"\n",
        "            Forward pass only (no backward):\n",
        "              - Compute output logits for the batch\n",
        "              - Do not compute gradients (no memory overhead)\n",
        "            batch_idx: index of batch\n",
        "            data: [batch_size, channels, height, width]\n",
        "            target: [batch_size] true labels\n",
        "            \"\"\"\n",
        "\n",
        "            data, target = data.to(device), target.to(device)\n",
        "\n",
        "            # 1️⃣ Forward pass only (no weight updates)\n",
        "            output = model(data)\n",
        "            # output shape: [batch_size, num_classes]\n",
        "            # Each row = logits for that image\n",
        "\n",
        "            # 2️⃣ Compute batch loss\n",
        "            test_loss += criterion(output, target).item()\n",
        "\n",
        "            # 3️⃣ Count correct predictions\n",
        "            correct += GetCorrectPredCount(output, target)\n",
        "\n",
        "    # Average test loss across all samples\n",
        "    test_loss /= len(test_loader.dataset)\n",
        "\n",
        "    # Test accuracy\n",
        "    test_acc.append(100. * correct / len(test_loader.dataset))\n",
        "    test_losses.append(test_loss)\n",
        "\n",
        "    print('Test set: Average loss: {:.4f}, Accuracy: {}/{} ({:.2f}%)\\n'.format(\n",
        "        test_loss, correct, len(test_loader.dataset),\n",
        "        100. * correct / len(test_loader.dataset)))\n"
      ],
      "metadata": {
        "id": "gpNw3-sy4QGd"
      },
      "execution_count": 9,
      "outputs": []
    },
    {
      "cell_type": "markdown",
      "source": [
        "CODE BLOCK: 10"
      ],
      "metadata": {
        "id": "09GYKBGRAT5M"
      }
    },
    {
      "cell_type": "code",
      "source": [
        "device = 'cuda'\n",
        "model = Net().to(device)\n",
        "optimizer = optim.Adam(model.parameters(), lr=0.01)\n",
        "scheduler = optim.lr_scheduler.StepLR(optimizer, step_size=15, gamma=0.1)\n",
        "criterion = nn.CrossEntropyLoss()\n",
        "num_epochs = 1\n",
        "\n",
        "for epoch in range(1, num_epochs+1):\n",
        "  print(f'Epoch {epoch}')\n",
        "  train(model, device, train_loader, optimizer, criterion)\n",
        "  test(model, device, test_loader, criterion)\n",
        "  scheduler.step()"
      ],
      "metadata": {
        "colab": {
          "base_uri": "https://localhost:8080/"
        },
        "id": "Owqiet9M4TV7",
        "outputId": "0404c699-69fa-4350-de37-87a9c4842ddb"
      },
      "execution_count": 10,
      "outputs": [
        {
          "output_type": "stream",
          "name": "stdout",
          "text": [
            "Epoch 1\n"
          ]
        },
        {
          "output_type": "stream",
          "name": "stderr",
          "text": [
            "Train: Loss=0.0619 Batch_id=117 Accuracy=89.53: 100%|██████████| 118/118 [00:21<00:00,  5.59it/s]\n"
          ]
        },
        {
          "output_type": "stream",
          "name": "stdout",
          "text": [
            "Test set: Average loss: 0.0001, Accuracy: 9781/10000 (97.81%)\n",
            "\n"
          ]
        }
      ]
    },
    {
      "cell_type": "code",
      "metadata": {
        "id": "80f12e78",
        "outputId": "ca2ae43b-d380-439e-cc8e-5bc9a34e3da1",
        "colab": {
          "base_uri": "https://localhost:8080/"
        }
      },
      "source": [
        "!pip install torchsummary\n",
        "from torchsummary import summary\n",
        "use_cuda = torch.cuda.is_available()\n",
        "device = torch.device(\"cuda\" if use_cuda else \"cpu\")\n",
        "model = Net().to(device)\n",
        "summary(model, input_size=(1, 28, 28))"
      ],
      "execution_count": 11,
      "outputs": [
        {
          "output_type": "stream",
          "name": "stdout",
          "text": [
            "Requirement already satisfied: torchsummary in /usr/local/lib/python3.12/dist-packages (1.5.1)\n",
            "----------------------------------------------------------------\n",
            "        Layer (type)               Output Shape         Param #\n",
            "================================================================\n",
            "            Conv2d-1            [-1, 8, 28, 28]              80\n",
            "            Conv2d-2           [-1, 16, 28, 28]           1,168\n",
            "         MaxPool2d-3           [-1, 16, 14, 14]               0\n",
            "            Conv2d-4           [-1, 16, 14, 14]           2,320\n",
            "            Conv2d-5           [-1, 32, 14, 14]           4,640\n",
            "         MaxPool2d-6             [-1, 32, 7, 7]               0\n",
            "            Linear-7                   [-1, 10]          15,690\n",
            "================================================================\n",
            "Total params: 23,898\n",
            "Trainable params: 23,898\n",
            "Non-trainable params: 0\n",
            "----------------------------------------------------------------\n",
            "Input size (MB): 0.00\n",
            "Forward/backward pass size (MB): 0.25\n",
            "Params size (MB): 0.09\n",
            "Estimated Total Size (MB): 0.35\n",
            "----------------------------------------------------------------\n"
          ]
        }
      ]
    },
    {
      "cell_type": "markdown",
      "source": [
        "CODE BLOCK: 11"
      ],
      "metadata": {
        "id": "B-LM-Z1k6FcF"
      }
    },
    {
      "cell_type": "code",
      "source": [
        "fig, axs = plt.subplots(2,2,figsize=(15,10))\n",
        "axs[0, 0].plot(train_losses)\n",
        "axs[0, 0].set_title(\"Training Loss\")\n",
        "axs[1, 0].plot(train_acc)\n",
        "axs[1, 0].set_title(\"Training Accuracy\")\n",
        "axs[0, 1].plot(test_losses)\n",
        "axs[0, 1].set_title(\"Test Loss\")\n",
        "axs[1, 1].plot(test_acc)\n",
        "axs[1, 1].set_title(\"Test Accuracy\")"
      ],
      "metadata": {
        "colab": {
          "base_uri": "https://localhost:8080/",
          "height": 797
        },
        "id": "Wu0l7dli4eC9",
        "outputId": "2f4594da-423d-4ce5-f25d-1aadfc8871b2"
      },
      "execution_count": 12,
      "outputs": [
        {
          "output_type": "execute_result",
          "data": {
            "text/plain": [
              "Text(0.5, 1.0, 'Test Accuracy')"
            ]
          },
          "metadata": {},
          "execution_count": 12
        },
        {
          "output_type": "display_data",
          "data": {
            "text/plain": [
              "<Figure size 1500x1000 with 4 Axes>"
            ],
            "image/png": "[encoded data removed]"
          },
          "metadata": {}
        }
      ]
    },
    {
      "cell_type": "code",
      "source": [
        "!pip install torchsummary\n",
        "from torchsummary import summary\n",
        "use_cuda = torch.cuda.is_available()\n",
        "device = torch.device(\"cuda\" if use_cuda else \"cpu\")\n",
        "model = Net().to(device)\n",
        "summary(model, input_size=(1, 28, 28))"
      ],
      "metadata": {
        "id": "C8WZPfXe4iK_",
        "colab": {
          "base_uri": "https://localhost:8080/"
        },
        "outputId": "52a2b34e-0f02-47f6-89f1-f2ea9841eb64"
      },
      "execution_count": 13,
      "outputs": [
        {
          "output_type": "stream",
          "name": "stdout",
          "text": [
            "Requirement already satisfied: torchsummary in /usr/local/lib/python3.12/dist-packages (1.5.1)\n",
            "----------------------------------------------------------------\n",
            "        Layer (type)               Output Shape         Param #\n",
            "================================================================\n",
            "            Conv2d-1            [-1, 8, 28, 28]              80\n",
            "            Conv2d-2           [-1, 16, 28, 28]           1,168\n",
            "         MaxPool2d-3           [-1, 16, 14, 14]               0\n",
            "            Conv2d-4           [-1, 16, 14, 14]           2,320\n",
            "            Conv2d-5           [-1, 32, 14, 14]           4,640\n",
            "         MaxPool2d-6             [-1, 32, 7, 7]               0\n",
            "            Linear-7                   [-1, 10]          15,690\n",
            "================================================================\n",
            "Total params: 23,898\n",
            "Trainable params: 23,898\n",
            "Non-trainable params: 0\n",
            "----------------------------------------------------------------\n",
            "Input size (MB): 0.00\n",
            "Forward/backward pass size (MB): 0.25\n",
            "Params size (MB): 0.09\n",
            "Estimated Total Size (MB): 0.35\n",
            "----------------------------------------------------------------\n"
          ]
        }
      ]
    }
  ]
}